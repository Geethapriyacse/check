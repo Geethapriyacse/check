{
 "cells": [
  {
   "cell_type": "code",
   "execution_count": 1,
   "id": "6ff145d7",
   "metadata": {},
   "outputs": [
    {
     "name": "stdout",
     "output_type": "stream",
     "text": [
      "Hello Hi\n"
     ]
    }
   ],
   "source": [
    "print(\"Hello Hi\")"
   ]
  },
  {
   "cell_type": "code",
   "execution_count": null,
   "id": "717b0435",
   "metadata": {},
   "outputs": [],
   "source": []
  }
 ],
 "metadata": {
  "kernelspec": {
   "display_name": "Python 3",
   "language": "python",
   "name": "python3"
  },
  "language_info": {
   "codemirror_mode": {
    "name": "ipython",
    "version": 3
   },
   "file_extension": ".py",
   "mimetype": "text/x-python",
   "name": "python",
   "nbconvert_exporter": "python",
   "pygments_lexer": "ipython3",
   "version": "3.8.8"
  }
 },
 "nbformat": 4,
 "nbformat_minor": 5
}
